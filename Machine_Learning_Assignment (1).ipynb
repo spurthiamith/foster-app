{
  "nbformat": 4,
  "nbformat_minor": 0,
  "metadata": {
    "colab": {
      "name": "Machine_Learning Assignment.ipynb",
      "provenance": [],
      "collapsed_sections": []
    },
    "kernelspec": {
      "name": "python3",
      "display_name": "Python 3"
    }
  },
  "cells": [
    {
      "cell_type": "code",
      "metadata": {
        "id": "rhMUF4a0FbnB",
        "colab_type": "code",
        "colab": {}
      },
      "source": [
        "#Importing required Packages\n",
        "%matplotlib inline\n",
        "import warnings\n",
        "warnings.filterwarnings(\"ignore\")\n",
        "import pandas as pd\n",
        "import numpy as np\n",
        "import matplotlib.pyplot as plt\n",
        "import re\n",
        "from pydrive.auth import GoogleAuth\n",
        "from pydrive.drive import GoogleDrive\n",
        "from google.colab import auth\n",
        "from oauth2client.client import GoogleCredentials\n"
      ],
      "execution_count": 0,
      "outputs": []
    },
    {
      "cell_type": "code",
      "metadata": {
        "id": "UTqcx4XzFys9",
        "colab_type": "code",
        "colab": {}
      },
      "source": [
        "#Connecting to googgle drive\n",
        "!pip install -U -q PyDrive\n",
        "# Authenticate and create the PyDrive client.\n",
        "auth.authenticate_user()\n",
        "gauth = GoogleAuth()\n",
        "gauth.credentials = GoogleCredentials.get_application_default()\n",
        "drive = GoogleDrive(gauth)\n",
        "link='https://drive.google.com/open?id=1q8l3Rnx62DN4ZtdhjK72wgXX7QW8SJ7e'\n",
        "fluff, id = link.split('=')\n",
        "downloaded = drive.CreateFile({'id':id}) \n",
        "downloaded.GetContentFile('mavoix_ml_sample_dataset.xlsx')  \n",
        "data = pandas.read_excel('mavoix_ml_sample_dataset.xlsx')"
      ],
      "execution_count": 0,
      "outputs": []
    },
    {
      "cell_type": "code",
      "metadata": {
        "id": "t9pv9ejSJObx",
        "colab_type": "code",
        "colab": {}
      },
      "source": [
        "data.fillna(0, inplace=True)#replacing NAN vlues with 0\n",
        "data=data.drop(['Unnamed: 10'], axis=1)\n",
        "data.drop(['Application_ID'], axis=1, inplace=True)\n",
        "#dropping unnecessary columns"
      ],
      "execution_count": 0,
      "outputs": []
    },
    {
      "cell_type": "markdown",
      "metadata": {
        "id": "F8Ra3cG3Pfx3",
        "colab_type": "text"
      },
      "source": [
        "##Data Preprocessing"
      ]
    },
    {
      "cell_type": "code",
      "metadata": {
        "colab_type": "code",
        "id": "u8kYFe_Ccon_",
        "colab": {}
      },
      "source": [
        "#preprocessing of Other Skills Column\n",
        "data['Other skills'] = data['Other skills'].str.lower()#converting content to lower case\n",
        "data['Other skills'] = data['Other skills'].str.replace(\" \",'')#replace space with nothing\n",
        "list_skills=[]\n",
        "for i in data['Other skills'].values:\n",
        "  i=re.sub(\"\\((.*?)\\)\", \"\", str(i))#removing content present inside ()\n",
        "  x = re.split(\",\", str(i))\n",
        "  for j in x:\n",
        "    if j not in list_skills:\n",
        "      list_skills.append(j)\n",
        "data_science=['rprogramming', 'datascience', 'machinelearning','artificalintelligence', 'gnuoctave','tableau', 'nosql','googleanalytics','flask', 'sixsigma', 'github', 'powerbi', 'linearprogramming','blockchain', 'cloudcomputing','spss','hadoop', 'sas','opencv','bootstrap','mysql','magento', 'sqlite','redux', 'searchengineoptimization', 'ui&uxdesign', 'django', 'restapi', 'neuralnetworks', 'python','algorithms','datastructures','dataanalytics','mathematics', 'mongodb', 'naturallanguageprocessing', 'postgresql', 'sql', 'statisticalmodeling', 'amazonwebservices', 'deeplearning','bigdataanalytics','matlab','computervision', 'imageprocessing','databasemanagementsystem']\n",
        "html=['java','css','html','javascript', 'php','j2ee','angularjs', 'node.js', 'reactjs','xml', 'jquery','apache', 'sap','jsp','servlets', 'ajax','eclipse', 'kotlin', 'oracle','angular2.0','shellscripting', 'flutter', 'perl', 'angular7.0', 'socialmediamarketing', 'windowsmobileapplicationdevelopment','dart', 'electronjs', 'hibernate', 'springmvc']\n",
        "\n",
        "#creating 3 category for Other skills-Data science,HTML,other\n",
        "data['Other skills'] = data['Other skills'].str.lower()\n",
        "data['Other skills'] = data['Other skills'].str.replace(\" \",'')\n",
        "g=[]\n",
        "for i in data['Other skills'].values:\n",
        "  data_science_f=[]\n",
        "  html_f=[]\n",
        "  other_f=[]\n",
        "  i=re.sub(\"\\((.*?)\\)\", \"\", str(i))\n",
        "  o = re.split(\",\", str(i))\n",
        "  for j in o:\n",
        "      if j in data_science:      \n",
        "        data_science_f.append(1)\n",
        "      elif j in html:\n",
        "        html_f.append(1)\n",
        "      else:\n",
        "        other_f.append(1)\n",
        "  data_count=sum(data_science_f)/len(data_science)\n",
        "  html_count=sum(html_f)/len(html)\n",
        "  other_count=sum(other_f)/len(other)\n",
        "  if(data_count>html_count and data_count>other_count):\n",
        "    large='Data_science'\n",
        "  elif(data_count<html_count and html_count>other_count):\n",
        "    large='html'\n",
        "  else:\n",
        "    large='Other'\n",
        "\n",
        "  g.append(large)  "
      ],
      "execution_count": 0,
      "outputs": []
    },
    {
      "cell_type": "code",
      "metadata": {
        "id": "r14MlCG4dGpM",
        "colab_type": "code",
        "colab": {}
      },
      "source": [
        "#preprocessing Degree column\n",
        "degree=[]\n",
        "for i in data['Degree'].values:\n",
        "  i=re.search(\"\\((.*?)\\)\",str(i))#get only content present inside ()\n",
        "  if i!= None:\n",
        "    degree.append(i.group(0))\n",
        "  else:\n",
        "    degree.append('No_degree')\n"
      ],
      "execution_count": 0,
      "outputs": []
    },
    {
      "cell_type": "code",
      "metadata": {
        "id": "PG0YhJhVlAn_",
        "colab_type": "code",
        "colab": {}
      },
      "source": [
        "#Preprocessing Stream column\n",
        "data['Stream'] = data['Stream'].str.lower()\n",
        "data['Stream'] = data['Stream'].str.replace(\"&\",'')\n",
        "data['Stream'] = data['Stream'].str.replace(\",\",'')\n",
        "data['Stream'] = data['Stream'].str.replace(\"and\",'')\n",
        "data['Stream'] = data['Stream'].str.replace(\"engineering\",'')\n",
        "data['Stream'] = data['Stream'].str.replace(\" \",'')\n",
        "\n",
        "list_skills=[]\n",
        "for i in data['Stream'].values:\n",
        "   if i not in list_skills:\n",
        "      list_skills.append(i)\n",
        "\n",
        "l_other=['electronicscommunication','production','electronicsinstrumentation', 'digitalcommunicationnetworking', 'electricalelectronics','science','design','electronicstelecommunication(ete)', 'instrumentationelectronics', 'civil','instrumentationcontrol','ceramic', 'commercewithmaths','technology', 'finance', 'computercommunication', 'earthsciences', 'economics', 'motelmanagement','corejava', 'mca', 'softwaresystems', 'education', 'software', 'computernetworkengg', 'kannuruniversity', 'mobileapplicationcloudtechnology','remotesensingwirelesssensor','elearningtechnologies', 'electronicscomputer', 'businessanalyticsbusinessintelligence', 'it', 'financeanalytics', 'physics', 'aerospace', 'commerce', 'marketing', 'sensorsystemstechnology', 'industrialmanagement','biologicalsciencesbio','biotechnology', 'mechatronics','mechanical',]\n",
        "l_data=['datascience','bigdataanalytics','businessanalytics','dataanalytics', 'artificialintelligence','artificialintelligencemachinelearning','computersciencewiththespecializationindatascience','datasciencedataanalyticsbigdata','advancediplomainbigdataanalytics','mathematics', 'advancedbigdataanalytics','advancedpgdiplomainartificialintelligence','statistics']\n",
        "s=[]\n",
        "for i in data['Stream'].values:\n",
        "  \n",
        "  if i in l_other:\n",
        "    s.append(\"other_degree\")\n",
        "  elif i in l_data:\n",
        "    s.append(\"Datascience_degree\")\n",
        "  else:\n",
        "    s.append(\"BE_degree\")\n"
      ],
      "execution_count": 0,
      "outputs": []
    },
    {
      "cell_type": "code",
      "metadata": {
        "id": "ewR0CftB2WyL",
        "colab_type": "code",
        "colab": {}
      },
      "source": [
        "#preprocessing of 'Performance_PG'\n",
        "for i in range(len(data['Performance_PG'].values)):\n",
        "  if data['Performance_PG'].iloc[i]==0:\n",
        "    data['Performance_PG'].iloc[i]=0\n",
        "  else:\n",
        "    k=data['Performance_PG'].iloc[i]\n",
        "    d=re.split(\"/\", str(k))\n",
        "    v=int((float(d[0])/int(d[1]))*100)\n",
        "    data['Performance_PG'].iloc[i]=v\n"
      ],
      "execution_count": 0,
      "outputs": []
    },
    {
      "cell_type": "code",
      "metadata": {
        "id": "YsfgGfiT3kaR",
        "colab_type": "code",
        "colab": {}
      },
      "source": [
        "#preprocessing of 'Performance_UG'\n",
        "for i in range(len(data['Performance_UG'].values)):\n",
        "  if data['Performance_UG'].iloc[i]==0:\n",
        "    data['Performance_UG'].iloc[i]=0\n",
        "  else:\n",
        "    k=data['Performance_UG'].iloc[i]\n",
        "    d=re.split(\"/\", str(k))\n",
        "    v=int((float(d[0])/int(d[1]))*100)\n",
        "    data['Performance_UG'].iloc[i]=v"
      ],
      "execution_count": 0,
      "outputs": []
    },
    {
      "cell_type": "code",
      "metadata": {
        "id": "xpKDjQix3u0A",
        "colab_type": "code",
        "colab": {}
      },
      "source": [
        "#preprocessing of 'Performance_12'\n",
        "for i in range(len(data['Performance_12'].values)):\n",
        "  if data['Performance_12'].iloc[i]==0:\n",
        "    data['Performance_12'].iloc[i]=0\n",
        "  else:\n",
        "    k=data['Performance_12'].iloc[i]\n",
        "    d=re.split(\"/\", str(k))\n",
        "    v=float(d[0])\n",
        "    data['Performance_12'].iloc[i]=v"
      ],
      "execution_count": 0,
      "outputs": []
    },
    {
      "cell_type": "code",
      "metadata": {
        "id": "GuqQS1r735Ry",
        "colab_type": "code",
        "colab": {}
      },
      "source": [
        "#preprocessing of 'Performance_10'\n",
        "for i in range(len(data['Performance_10'].values)):\n",
        "  if data['Performance_10'].iloc[i]==0:\n",
        "    data['Performance_10'].iloc[i]=0\n",
        "  else:\n",
        "    k=data['Performance_10'].iloc[i]\n",
        "    d=re.split(\"/\", str(k))\n",
        "    v=float(d[0])\n",
        "    data['Performance_10'].iloc[i]=v"
      ],
      "execution_count": 0,
      "outputs": []
    },
    {
      "cell_type": "markdown",
      "metadata": {
        "id": "JPsDKX7aypnz",
        "colab_type": "text"
      },
      "source": [
        "## Encoding Features"
      ]
    },
    {
      "cell_type": "code",
      "metadata": {
        "colab_type": "code",
        "id": "PLQi8m4zhh1-",
        "colab": {}
      },
      "source": [
        "\n",
        "#Drop 'Other Skills' column and concatenate one hot encoded values of 'Other Skills'\n",
        "data.drop(['Other skills'], axis=1, inplace=True)\n",
        "g=pd.DataFrame(g)\n",
        "dummies = pd.get_dummies(g)\n",
        "data = pd.concat([data, dummies], axis=1)\n",
        "data.drop(['Current City'], axis=1, inplace=True)\n",
        "\n",
        "#Drop 'Degree' column and concatenate one hot encoded values of 'Degree'\n",
        "data.drop(['Degree'], axis=1, inplace=True)\n",
        "degree=pd.DataFrame(degree)\n",
        "dummies = pd.get_dummies(degree)\n",
        "data = pd.concat([data, dummies], axis=1)\n",
        "\n",
        "#Drop 'Stream' column and concatenate one hot encoded values of 'Stream'\n",
        "data.drop(['Stream'], axis=1, inplace=True)\n",
        "s=pd.DataFrame(s)\n",
        "dummies = pd.get_dummies(s)\n",
        "data = pd.concat([data, dummies], axis=1)\n"
      ],
      "execution_count": 0,
      "outputs": []
    },
    {
      "cell_type": "markdown",
      "metadata": {
        "id": "vtzhcrIgUI4p",
        "colab_type": "text"
      },
      "source": [
        "##PCA and KMeans"
      ]
    },
    {
      "cell_type": "code",
      "metadata": {
        "id": "xq32K9gtiDET",
        "colab_type": "code",
        "colab": {}
      },
      "source": [
        "from sklearn.preprocessing import MinMaxScaler\n",
        "\n",
        "mms = MinMaxScaler()\n",
        "mms.fit(data)\n",
        "data_transformed = mms.transform(data)"
      ],
      "execution_count": 0,
      "outputs": []
    },
    {
      "cell_type": "code",
      "metadata": {
        "id": "qlX1cTXWNLQN",
        "colab_type": "code",
        "colab": {
          "base_uri": "https://localhost:8080/",
          "height": 279
        },
        "outputId": "24a883d2-30ee-44a3-d5ed-c44fc0cf6354"
      },
      "source": [
        "from sklearn.decomposition import PCA\n",
        "pca = PCA(.95)\n",
        "pca_2d = pca.fit_transform(data_transformed)\n",
        "# Plot the explained variances\n",
        "features = range(pca.n_components_)\n",
        "plt.bar(features, pca.explained_variance_ratio_, color='black')\n",
        "plt.xlabel('PCA features')\n",
        "plt.ylabel('variance %')\n",
        "plt.xticks(features)\n",
        "# Save components to a DataFrame\n",
        "PCA_components = pd.DataFrame(pca_2d)\n",
        "\n"
      ],
      "execution_count": 376,
      "outputs": [
        {
          "output_type": "display_data",
          "data": {
            "image/png": "[encoded data removed]",
            "text/plain": [
              "<Figure size 432x288 with 1 Axes>"
            ]
          },
          "metadata": {
            "tags": []
          }
        }
      ]
    },
    {
      "cell_type": "code",
      "metadata": {
        "id": "j5L2xt4tTLX2",
        "colab_type": "code",
        "colab": {
          "base_uri": "https://localhost:8080/",
          "height": 279
        },
        "outputId": "45213215-8862-4ac9-ddc5-b94cb1373ebe"
      },
      "source": [
        "from sklearn.cluster import KMeans\n",
        "ks = range(1, 10)\n",
        "inertias = []\n",
        "for k in ks:\n",
        "    # Create a KMeans instance with k clusters: model\n",
        "    model = KMeans(n_clusters=k)\n",
        "    \n",
        "    # Fit model to samples\n",
        "    model.fit(PCA_components.iloc[:,:3])\n",
        "    \n",
        "    # Append the inertia to the list of inertias\n",
        "    inertias.append(model.inertia_)\n",
        "    \n",
        "plt.plot(ks, inertias, '-o', color='black')\n",
        "plt.xlabel('number of clusters, k')\n",
        "plt.ylabel('inertia')\n",
        "plt.xticks(ks)\n",
        "plt.show()"
      ],
      "execution_count": 377,
      "outputs": [
        {
          "output_type": "display_data",
          "data": {
            "image/png": "[encoded data removed]",
            "text/plain": [
              "<Figure size 432x288 with 1 Axes>"
            ]
          },
          "metadata": {
            "tags": []
          }
        }
      ]
    },
    {
      "cell_type": "code",
      "metadata": {
        "id": "YlTaLa_OU2w8",
        "colab_type": "code",
        "colab": {}
      },
      "source": [
        "#Shows k=2 is elbow point\n",
        "kmeans = KMeans(n_clusters=2)\n",
        "kmeans.fit(PCA_components.iloc[:,:3])\n",
        "labels_node=kmeans.labels_"
      ],
      "execution_count": 0,
      "outputs": []
    },
    {
      "cell_type": "code",
      "metadata": {
        "id": "YQCtJyspaiGT",
        "colab_type": "code",
        "colab": {}
      },
      "source": [
        "def ClusterIndicesNumpy(clustNum, labels_array): #numpy \n",
        "    return np.where(labels_array == clustNum)[0]"
      ],
      "execution_count": 0,
      "outputs": []
    },
    {
      "cell_type": "code",
      "metadata": {
        "id": "B-dj5IcvdQLJ",
        "colab_type": "code",
        "colab": {}
      },
      "source": [
        "#Connecting to googgle drive\n",
        "!pip install -U -q PyDrive\n",
        "# Authenticate and create the PyDrive client.\n",
        "auth.authenticate_user()\n",
        "gauth = GoogleAuth()\n",
        "gauth.credentials = GoogleCredentials.get_application_default()\n",
        "drive = GoogleDrive(gauth)\n",
        "link='https://drive.google.com/open?id=1q8l3Rnx62DN4ZtdhjK72wgXX7QW8SJ7e'\n",
        "fluff, id = link.split('=')\n",
        "downloaded = drive.CreateFile({'id':id}) \n",
        "downloaded.GetContentFile('mavoix_ml_sample_dataset.xlsx')  \n",
        "data = pandas.read_excel('mavoix_ml_sample_dataset.xlsx')"
      ],
      "execution_count": 0,
      "outputs": []
    },
    {
      "cell_type": "code",
      "metadata": {
        "id": "Nd8mlkpLeKwD",
        "colab_type": "code",
        "outputId": "09f53a50-4d1c-49a7-d619-56eb6fb0ac55",
        "colab": {
          "base_uri": "https://localhost:8080/",
          "height": 110
        }
      },
      "source": [
        "cluster_index=[]\n",
        "for i in range(2):\n",
        "  c=ClusterIndicesNumpy(i, labels_node)\n",
        "  cluster_index.append(c)\n",
        "\n",
        "for s in range(len(cluster_index)):\n",
        "  print(\"cluster:\",s)\n",
        "  f=[]\n",
        "  for i in cluster_index[s]:\n",
        "    f.append(data['Application_ID'].iloc[i])\n",
        "  print(f)"
      ],
      "execution_count": 381,
      "outputs": [
        {
          "output_type": "stream",
          "text": [
            "cluster: 0\n",
            "['ML0004', 'ML0011', 'ML0019', 'ML0021', 'ML0026', 'ML0033', 'ML0040', 'ML0047', 'ML0051', 'ML0054', 'ML0058', 'ML0074', 'ML0076', 'ML0093', 'ML0099', 'ML0106', 'ML0108', 'ML0116', 'ML0131', 'ML0143', 'ML0158', 'ML0170', 'ML0171', 'ML0187', 'ML0188', 'ML0191', 'ML0201', 'ML0203', 'ML0208', 'ML0209', 'ML0211', 'ML0221', 'ML0222', 'ML0224', 'ML0225', 'ML0226', 'ML0227', 'ML0228', 'ML0229', 'ML0230', 'ML0231', 'ML0232', 'ML0233', 'ML0234', 'ML0235', 'ML0236', 'ML0237', 'ML0238', 'ML0239', 'ML0240', 'ML0241', 'ML0242', 'ML0243', 'ML0246', 'ML0247', 'ML0248', 'ML0249', 'ML0250', 'ML0252', 'ML0253', 'ML0254', 'ML0255', 'ML0256', 'ML0257', 'ML0258', 'ML0259', 'ML0262', 'ML0263', 'ML0264', 'ML0265', 'ML0266', 'ML0267', 'ML0269', 'ML0270', 'ML0271', 'ML0272', 'ML0273', 'ML0274', 'ML0275', 'ML0276', 'ML0277', 'ML0278', 'ML0279', 'ML0280', 'ML0282', 'ML0284', 'ML0285', 'ML0286', 'ML0287', 'ML0288', 'ML0289', 'ML0290', 'ML0291', 'ML0292', 'ML0293', 'ML0294', 'ML0296', 'ML0297', 'ML0298', 'ML0299', 'ML0300', 'ML0301', 'ML0302', 'ML0303', 'ML0305', 'ML0307', 'ML0308', 'ML0309', 'ML0310', 'ML0311', 'ML0312', 'ML0313', 'ML0314', 'ML0315', 'ML0316', 'ML0317', 'ML0319', 'ML0320', 'ML0321', 'ML0322', 'ML0325', 'ML0328', 'ML0329', 'ML0330', 'ML0331', 'ML0332', 'ML0333', 'ML0334', 'ML0335', 'ML0336', 'ML0337', 'ML0339', 'ML0340', 'ML0341', 'ML0342', 'ML0343', 'ML0344', 'ML0346', 'ML0347', 'ML0348', 'ML0349', 'ML0350', 'ML0351', 'ML0352', 'ML0353', 'ML0354', 'ML0355', 'ML0356', 'ML0357', 'ML0358', 'ML0359', 'ML0360', 'ML0361', 'ML0362', 'ML0363', 'ML0365', 'ML0366', 'ML0367', 'ML0368', 'ML0369', 'ML0370', 'ML0372', 'ML0373', 'ML0374', 'ML0375', 'ML0376', 'ML0377', 'ML0378', 'ML0379', 'ML0382', 'ML0383', 'ML0384', 'ML0385', 'ML0386', 'ML0387', 'ML0389', 'ML0390', 'ML0391', 'ML0392']\n",
            "cluster: 1\n",
            "['ML0001', 'ML0002', 'ML0003', 'ML0005', 'ML0006', 'ML0007', 'ML0008', 'ML0009', 'ML0010', 'ML0012', 'ML0013', 'ML0014', 'ML0015', 'ML0016', 'ML0017', 'ML0018', 'ML0020', 'ML0022', 'ML0023', 'ML0024', 'ML0025', 'ML0027', 'ML0028', 'ML0029', 'ML0030', 'ML0031', 'ML0032', 'ML0034', 'ML0035', 'ML0036', 'ML0037', 'ML0038', 'ML0039', 'ML0041', 'ML0042', 'ML0043', 'ML0044', 'ML0045', 'ML0046', 'ML0048', 'ML0049', 'ML0050', 'ML0052', 'ML0053', 'ML0055', 'ML0056', 'ML0057', 'ML0059', 'ML0060', 'ML0061', 'ML0062', 'ML0063', 'ML0064', 'ML0065', 'ML0066', 'ML0067', 'ML0068', 'ML0069', 'ML0070', 'ML0071', 'ML0072', 'ML0073', 'ML0075', 'ML0077', 'ML0078', 'ML0079', 'ML0080', 'ML0081', 'ML0082', 'ML0083', 'ML0084', 'ML0085', 'ML0086', 'ML0087', 'ML0088', 'ML0089', 'ML0090', 'ML0091', 'ML0092', 'ML0094', 'ML0095', 'ML0096', 'ML0097', 'ML0098', 'ML0100', 'ML0101', 'ML0102', 'ML0103', 'ML0104', 'ML0105', 'ML0107', 'ML0109', 'ML0110', 'ML0111', 'ML0112', 'ML0113', 'ML0114', 'ML0115', 'ML0117', 'ML0118', 'ML0119', 'ML0120', 'ML0121', 'ML0122', 'ML0123', 'ML0124', 'ML0125', 'ML0126', 'ML0127', 'ML0128', 'ML0129', 'ML0130', 'ML0132', 'ML0133', 'ML0134', 'ML0135', 'ML0136', 'ML0137', 'ML0138', 'ML0139', 'ML0140', 'ML0141', 'ML0142', 'ML0144', 'ML0145', 'ML0146', 'ML0147', 'ML0148', 'ML0149', 'ML0150', 'ML0151', 'ML0152', 'ML0153', 'ML0154', 'ML0155', 'ML0156', 'ML0157', 'ML0159', 'ML0160', 'ML0161', 'ML0162', 'ML0163', 'ML0164', 'ML0165', 'ML0166', 'ML0167', 'ML0168', 'ML0169', 'ML0172', 'ML0173', 'ML0174', 'ML0175', 'ML0176', 'ML0177', 'ML0178', 'ML0179', 'ML0180', 'ML0181', 'ML0182', 'ML0183', 'ML0184', 'ML0185', 'ML0186', 'ML0189', 'ML0190', 'ML0192', 'ML0193', 'ML0194', 'ML0195', 'ML0196', 'ML0197', 'ML0198', 'ML0199', 'ML0200', 'ML0202', 'ML0204', 'ML0205', 'ML0206', 'ML0207', 'ML0210', 'ML0212', 'ML0213', 'ML0214', 'ML0215', 'ML0216', 'ML0217', 'ML0218', 'ML0219', 'ML0220', 'ML0223', 'ML0244', 'ML0245', 'ML0251', 'ML0260', 'ML0261', 'ML0268', 'ML0281', 'ML0283', 'ML0295', 'ML0304', 'ML0306', 'ML0318', 'ML0323', 'ML0324', 'ML0326', 'ML0327', 'ML0338', 'ML0345', 'ML0364', 'ML0371', 'ML0380', 'ML0381', 'ML0388']\n"
          ],
          "name": "stdout"
        }
      ]
    },
    {
      "cell_type": "markdown",
      "metadata": {
        "id": "OdAEZG2vhdwx",
        "colab_type": "text"
      },
      "source": [
        "#By looking into Data point features we can conclude that cluster 0 is cluster of potential candidate for Data Science and cluster 1 is cluster of potential candidates for Web Development Internship"
      ]
    },
    {
      "cell_type": "code",
      "metadata": {
        "id": "kX03JjBSTyVB",
        "colab_type": "code",
        "colab": {
          "base_uri": "https://localhost:8080/",
          "height": 281
        },
        "outputId": "dabdbac6-416c-45d1-8b2f-b0283fbc179a"
      },
      "source": [
        "import pylab as pl\n",
        "for i in range(0, pca_2d.shape[0]):\n",
        "  if kmeans.labels_[i] == 0:\n",
        "    c1 = pl.scatter(pca_2d[i,0],pca_2d[i,1],c='r',marker='+')\n",
        "  elif kmeans.labels_[i] == 1:\n",
        "    c2 = pl.scatter(pca_2d[i,0],pca_2d[i,1],c='g',marker='o')\n",
        "  \n",
        "pl.legend([c1,c2],['Data_Science', 'Web_develop'])\n",
        "pl.title('K-means clusters the Iris dataset into 3    clusters')\n",
        "pl.show()"
      ],
      "execution_count": 382,
      "outputs": [
        {
          "output_type": "display_data",
          "data": {
            "image/png": "[encoded data removed]",
            "text/plain": [
              "<Figure size 432x288 with 1 Axes>"
            ]
          },
          "metadata": {
            "tags": []
          }
        }
      ]
    },
    {
      "cell_type": "code",
      "metadata": {
        "id": "V64TlMYgqtE7",
        "colab_type": "code",
        "colab": {}
      },
      "source": [
        ""
      ],
      "execution_count": 0,
      "outputs": []
    }
  ]
}